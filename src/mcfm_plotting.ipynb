{
 "cells": [
  {
   "cell_type": "code",
   "execution_count": 10,
   "metadata": {},
   "outputs": [],
   "source": [
    "import numpy as np\n",
    "import matplotlib.pyplot as plt"
   ]
  },
  {
   "cell_type": "code",
   "execution_count": 11,
   "metadata": {},
   "outputs": [],
   "source": []
  },
  {
   "cell_type": "code",
   "execution_count": 2,
   "metadata": {},
   "outputs": [],
   "source": [
    "def GetRanges(filename):\n",
    "    var = filename.split('_')[-1]\n",
    "    var = var.split('.')[0]\n",
    "    print(var)\n",
    "    \n",
    "    ranges = [0,100]\n",
    "    \n",
    "    if   var == 'mass': ranges = [50,200]\n",
    "        \n",
    "    elif var == \"pt3\" : ranges = [25,100]\n",
    "    elif var == \"pt4\" : ranges = [20,100]\n",
    "    elif var == \"pt5\" : ranges = [20,500]\n",
    "    elif var == \"pt6\" : ranges = [0,500]\n",
    "        \n",
    "    elif var == \"y3\"  : ranges = [-3,3]\n",
    "    elif var == \"y4\"  : ranges = [-3,3]\n",
    "    elif var == \"y5\"  : ranges = [-3,3]\n",
    "    elif var == \"y6\"  : ranges = [-3,3]\n",
    "    elif var == \"ydiff(Vgam)\"  : ranges = [-5,5]\n",
    "\n",
    "        \n",
    "    return ranges"
   ]
  },
  {
   "cell_type": "code",
   "execution_count": 3,
   "metadata": {},
   "outputs": [],
   "source": [
    "def lineFormat(line):\n",
    "    Vals = []\n",
    "    for ln in line.split('\\t'):\n",
    "        Vals.append(float(ln.strip()))\n",
    "    return Vals"
   ]
  },
  {
   "cell_type": "code",
   "execution_count": 4,
   "metadata": {},
   "outputs": [],
   "source": [
    "def GetXsec(filename):\n",
    "    bins = []\n",
    "    xsec = []\n",
    "    xsecerr = []\n",
    "    with open(filename,'r') as file:\n",
    "        for line in file:\n",
    "            if '#' not in line:   \n",
    "                #bins.append(lineFormat(line)[:1])\n",
    "                bins.append(np.mean(lineFormat(line)[:1]))\n",
    "                xsec.append(lineFormat(line)[2])\n",
    "                xsecerr.append(lineFormat(line)[2])\n",
    "                \n",
    "    ranges = GetRanges(filename)\n",
    "    return bins,xsec,xsecerr,ranges"
   ]
  },
  {
   "cell_type": "code",
   "execution_count": 5,
   "metadata": {},
   "outputs": [],
   "source": [
    "def SetPath(nTGC,Type = \"0p5\", var=\"pt5\"):\n",
    "    path = \"/home/jcordero/CMS/data_theory/Zgamma_\"+Type+\"/\"\n",
    "\n",
    "    couplingFolder = \"Zgamma_\"+nTGC\n",
    "    prename = '/Zgamma_nlo_MMHT_nl_1____1____14TeV_'\n",
    "\n",
    "    filename = prename+var+'.txt'\n",
    "    fullpath = path+couplingFolder+filename\n",
    "    \n",
    "    return fullpath"
   ]
  },
  {
   "cell_type": "code",
   "execution_count": null,
   "metadata": {},
   "outputs": [],
   "source": []
  },
  {
   "cell_type": "code",
   "execution_count": null,
   "metadata": {},
   "outputs": [],
   "source": []
  },
  {
   "cell_type": "code",
   "execution_count": 6,
   "metadata": {},
   "outputs": [],
   "source": [
    "#nTGC = \"h3Z\"\n",
    "#nTGC = \"h3gamma\"\n",
    "#nTGC = \"h4Z\"\n",
    "nTGC = \"h4gamma\"\n",
    "\n",
    "#var = '(Z,gam)_invariant_mass'\n",
    "#var = 'boson_invariant_mass'\n",
    "#var = 'y3'\n",
    "#var = 'y4'\n",
    "#var = 'y5'\n",
    "#var = 'pt3'\n",
    "#var = 'pt4'\n",
    "var = 'pt5'\n",
    "#var = \"ydiff(Vgam)\"\n",
    "\n",
    "Type = \"0p5\""
   ]
  },
  {
   "cell_type": "code",
   "execution_count": 7,
   "metadata": {},
   "outputs": [],
   "source": [
    "bins = {}\n",
    "xsec = {}\n",
    "xsecerr = {}\n",
    "ranges  = {}"
   ]
  },
  {
   "cell_type": "code",
   "execution_count": 8,
   "metadata": {},
   "outputs": [
    {
     "ename": "FileNotFoundError",
     "evalue": "[Errno 2] No such file or directory: '/home/jcordero/CMS/data_theory/Zgamma_0p5/Zgamma_sm/Zgamma_nlo_MMHT_nl_1____1____14TeV_pt5.txt'",
     "output_type": "error",
     "traceback": [
      "\u001b[0;31m---------------------------------------------------------------------------\u001b[0m",
      "\u001b[0;31mFileNotFoundError\u001b[0m                         Traceback (most recent call last)",
      "\u001b[0;32m<ipython-input-8-644488a1b2f4>\u001b[0m in \u001b[0;36m<module>\u001b[0;34m\u001b[0m\n\u001b[1;32m      2\u001b[0m \u001b[0;32mfor\u001b[0m \u001b[0mcoupl\u001b[0m \u001b[0;32min\u001b[0m \u001b[0mcoupling_list\u001b[0m\u001b[0;34m:\u001b[0m\u001b[0;34m\u001b[0m\u001b[0;34m\u001b[0m\u001b[0m\n\u001b[1;32m      3\u001b[0m     \u001b[0mfullpath\u001b[0m \u001b[0;34m=\u001b[0m \u001b[0mSetPath\u001b[0m\u001b[0;34m(\u001b[0m\u001b[0mcoupl\u001b[0m\u001b[0;34m,\u001b[0m\u001b[0mType\u001b[0m \u001b[0;34m=\u001b[0m \u001b[0mType\u001b[0m\u001b[0;34m,\u001b[0m \u001b[0mvar\u001b[0m \u001b[0;34m=\u001b[0m \u001b[0mvar\u001b[0m\u001b[0;34m)\u001b[0m\u001b[0;34m\u001b[0m\u001b[0;34m\u001b[0m\u001b[0m\n\u001b[0;32m----> 4\u001b[0;31m     \u001b[0mbins\u001b[0m\u001b[0;34m[\u001b[0m\u001b[0mcoupl\u001b[0m\u001b[0;34m]\u001b[0m\u001b[0;34m,\u001b[0m \u001b[0mxsec\u001b[0m\u001b[0;34m[\u001b[0m\u001b[0mcoupl\u001b[0m\u001b[0;34m]\u001b[0m\u001b[0;34m,\u001b[0m \u001b[0mxsecerr\u001b[0m\u001b[0;34m[\u001b[0m\u001b[0mcoupl\u001b[0m\u001b[0;34m]\u001b[0m\u001b[0;34m,\u001b[0m \u001b[0mranges\u001b[0m\u001b[0;34m[\u001b[0m\u001b[0mcoupl\u001b[0m\u001b[0;34m]\u001b[0m \u001b[0;34m=\u001b[0m \u001b[0mGetXsec\u001b[0m\u001b[0;34m(\u001b[0m\u001b[0mfullpath\u001b[0m\u001b[0;34m)\u001b[0m\u001b[0;34m\u001b[0m\u001b[0;34m\u001b[0m\u001b[0m\n\u001b[0m",
      "\u001b[0;32m<ipython-input-4-6ab748562860>\u001b[0m in \u001b[0;36mGetXsec\u001b[0;34m(filename)\u001b[0m\n\u001b[1;32m      3\u001b[0m     \u001b[0mxsec\u001b[0m \u001b[0;34m=\u001b[0m \u001b[0;34m[\u001b[0m\u001b[0;34m]\u001b[0m\u001b[0;34m\u001b[0m\u001b[0;34m\u001b[0m\u001b[0m\n\u001b[1;32m      4\u001b[0m     \u001b[0mxsecerr\u001b[0m \u001b[0;34m=\u001b[0m \u001b[0;34m[\u001b[0m\u001b[0;34m]\u001b[0m\u001b[0;34m\u001b[0m\u001b[0;34m\u001b[0m\u001b[0m\n\u001b[0;32m----> 5\u001b[0;31m     \u001b[0;32mwith\u001b[0m \u001b[0mopen\u001b[0m\u001b[0;34m(\u001b[0m\u001b[0mfilename\u001b[0m\u001b[0;34m,\u001b[0m\u001b[0;34m'r'\u001b[0m\u001b[0;34m)\u001b[0m \u001b[0;32mas\u001b[0m \u001b[0mfile\u001b[0m\u001b[0;34m:\u001b[0m\u001b[0;34m\u001b[0m\u001b[0;34m\u001b[0m\u001b[0m\n\u001b[0m\u001b[1;32m      6\u001b[0m         \u001b[0;32mfor\u001b[0m \u001b[0mline\u001b[0m \u001b[0;32min\u001b[0m \u001b[0mfile\u001b[0m\u001b[0;34m:\u001b[0m\u001b[0;34m\u001b[0m\u001b[0;34m\u001b[0m\u001b[0m\n\u001b[1;32m      7\u001b[0m             \u001b[0;32mif\u001b[0m \u001b[0;34m'#'\u001b[0m \u001b[0;32mnot\u001b[0m \u001b[0;32min\u001b[0m \u001b[0mline\u001b[0m\u001b[0;34m:\u001b[0m\u001b[0;34m\u001b[0m\u001b[0;34m\u001b[0m\u001b[0m\n",
      "\u001b[0;31mFileNotFoundError\u001b[0m: [Errno 2] No such file or directory: '/home/jcordero/CMS/data_theory/Zgamma_0p5/Zgamma_sm/Zgamma_nlo_MMHT_nl_1____1____14TeV_pt5.txt'"
     ]
    }
   ],
   "source": [
    "coupling_list = [\"sm\", \"h3Z\", \"h3gamma\", \"h4Z\", \"h4gamma\"]\n",
    "for coupl in coupling_list:\n",
    "    fullpath = SetPath(coupl,Type = Type, var = var)\n",
    "    bins[coupl], xsec[coupl], xsecerr[coupl], ranges[coupl] = GetXsec(fullpath)"
   ]
  },
  {
   "cell_type": "code",
   "execution_count": null,
   "metadata": {},
   "outputs": [],
   "source": [
    "colors = {\n",
    "        'sm':'k',\n",
    "        'h3Z':'r',\n",
    "        'h3gamma':'b',\n",
    "        'h4Z':'g',\n",
    "        'h4gamma':'orange',\n",
    "        }"
   ]
  },
  {
   "cell_type": "code",
   "execution_count": null,
   "metadata": {},
   "outputs": [],
   "source": [
    "plt.figure(figsize=(10,10))\n",
    "plt.title('Cross Section')\n",
    "plt.xlabel(r'$p_T$')\n",
    "\n",
    "plt.grid(linestyle='--')\n",
    "\n",
    "for coupl in coupling_list:\n",
    "    plt.errorbar(bins[coupl],\n",
    "                 xsec[coupl],\n",
    "                 yerr = np.array(xsecerr[coupl])/2,\n",
    "                 color = colors[coupl],\n",
    "                 label = coupl,\n",
    "                )\n",
    "\n",
    "\n",
    "ax = plt.gca()\n",
    "ax.set_yscale('log')\n",
    "ax.set_xlim(ranges[coupl])\n",
    "plt.legend()"
   ]
  },
  {
   "cell_type": "code",
   "execution_count": null,
   "metadata": {},
   "outputs": [],
   "source": []
  },
  {
   "cell_type": "code",
   "execution_count": null,
   "metadata": {},
   "outputs": [],
   "source": []
  }
 ],
 "metadata": {
  "kernelspec": {
   "display_name": "Python [conda env:CMSenv] *",
   "language": "python",
   "name": "conda-env-CMSenv-py"
  },
  "language_info": {
   "codemirror_mode": {
    "name": "ipython",
    "version": 3
   },
   "file_extension": ".py",
   "mimetype": "text/x-python",
   "name": "python",
   "nbconvert_exporter": "python",
   "pygments_lexer": "ipython3",
   "version": "3.6.7"
  },
  "varInspector": {
   "cols": {
    "lenName": 16,
    "lenType": 16,
    "lenVar": 40
   },
   "kernels_config": {
    "python": {
     "delete_cmd_postfix": "",
     "delete_cmd_prefix": "del ",
     "library": "var_list.py",
     "varRefreshCmd": "print(var_dic_list())"
    },
    "r": {
     "delete_cmd_postfix": ") ",
     "delete_cmd_prefix": "rm(",
     "library": "var_list.r",
     "varRefreshCmd": "cat(var_dic_list()) "
    }
   },
   "types_to_exclude": [
    "module",
    "function",
    "builtin_function_or_method",
    "instance",
    "_Feature"
   ],
   "window_display": false
  }
 },
 "nbformat": 4,
 "nbformat_minor": 2
}
