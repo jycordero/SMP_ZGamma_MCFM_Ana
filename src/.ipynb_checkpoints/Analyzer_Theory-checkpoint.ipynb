{
 "cells": [
  {
   "cell_type": "code",
   "execution_count": 1,
   "metadata": {},
   "outputs": [],
   "source": [
    "import numpy as np\n",
    "import matplotlib.pyplot as plt"
   ]
  },
  {
   "cell_type": "code",
   "execution_count": 2,
   "metadata": {},
   "outputs": [],
   "source": [
    "import sys"
   ]
  },
  {
   "cell_type": "code",
   "execution_count": 3,
   "metadata": {},
   "outputs": [],
   "source": [
    "sys.path.append(\"/home/jcordero/CMS/SMP_ZGamma_MCFM_Ana/\")"
   ]
  },
  {
   "cell_type": "code",
   "execution_count": 4,
   "metadata": {},
   "outputs": [
    {
     "name": "stdout",
     "output_type": "stream",
     "text": [
      "Welcome to JupyROOT 6.18/04\n"
     ]
    },
    {
     "name": "stderr",
     "output_type": "stream",
     "text": [
      "/home/jcordero/anaconda3/envs/CMSenv/lib/python3.6/site-packages/root_numpy/__init__.py:34: RuntimeWarning: ROOT 6.18/04 is currently active but you installed root_numpy against ROOT 6.05/02. Please consider reinstalling root_numpy for this ROOT version.\n",
      "  RuntimeWarning)\n",
      "/home/jcordero/anaconda3/envs/CMSenv/lib/python3.6/site-packages/root_numpy/__init__.py:46: RuntimeWarning: numpy 1.15.0 is currently installed but you installed root_numpy against numpy 1.12.1. Please consider reinstalling root_numpy for this numpy version.\n",
      "  RuntimeWarning)\n"
     ]
    }
   ],
   "source": [
    "from ConfigTh import ConfigTh\n",
    "from ReaderTh import ReaderTh"
   ]
  },
  {
   "cell_type": "code",
   "execution_count": 5,
   "metadata": {},
   "outputs": [],
   "source": [
    "from Common.CommonHelper import CommonHelper"
   ]
  },
  {
   "cell_type": "code",
   "execution_count": 6,
   "metadata": {},
   "outputs": [],
   "source": [
    "config = {}\n",
    "Reader = {}"
   ]
  },
  {
   "cell_type": "code",
   "execution_count": 7,
   "metadata": {},
   "outputs": [],
   "source": [
    "era = \"Zgamma\"\n",
    "selection = \"mcfm\"\n",
    "path = \"/home/jcordero/CMS/data/data_theory/\"\n",
    "config[\"mcfm\"] = ConfigTh(path = path, selection = selection,era = era)\n",
    "Reader[\"mcfm\"] = ReaderTh(config[\"mcfm\"])"
   ]
  },
  {
   "cell_type": "code",
   "execution_count": 8,
   "metadata": {},
   "outputs": [],
   "source": [
    "era = \"Zgamma\"\n",
    "selection = \"matrix\"\n",
    "path = \"/home/jcordero/CMS/data/data_theory/\"\n",
    "config[\"matrix\"] = ConfigTh(path = path, selection = selection,era = era)\n",
    "Reader[\"matrix\"] = ReaderTh(config[\"matrix\"])"
   ]
  },
  {
   "cell_type": "code",
   "execution_count": 9,
   "metadata": {},
   "outputs": [],
   "source": [
    "def genCouplingList(coupling,index):\n",
    "    couplingList = []\n",
    "    for coup in coupling:\n",
    "        for i in index:\n",
    "            couplingList.append(\"h\"+str(i)+coup)\n",
    "    return couplingList"
   ]
  },
  {
   "cell_type": "code",
   "execution_count": 13,
   "metadata": {},
   "outputs": [],
   "source": [
    "genCouplingList([\"Z\",\"gamma\"],range(1,5))\n",
    "xsec = {'mcfm':{},\n",
    "        'matrix':{}\n",
    "       }"
   ]
  },
  {
   "cell_type": "code",
   "execution_count": 19,
   "metadata": {
    "scrolled": true
   },
   "outputs": [
    {
     "name": "stdout",
     "output_type": "stream",
     "text": [
      "mcfm lo sm\n",
      "/home/jcordero/CMS/data/data_theory/mcfm/Zgamma/lo/sm/Zgamma_lo_MMHT_nl_1____1____14TeV_pt5.txt\n",
      "mcfm lo h1Z\n",
      "/home/jcordero/CMS/data/data_theory/mcfm/Zgamma/lo/h1Z/0p05/Zgamma_lo_MMHT_nl_1____1____14TeV_pt5.txt\n",
      "mcfm lo h2Z\n",
      "/home/jcordero/CMS/data/data_theory/mcfm/Zgamma/lo/h2Z/0p05/Zgamma_lo_MMHT_nl_1____1____14TeV_pt5.txt\n",
      "mcfm lo h3Z\n",
      "/home/jcordero/CMS/data/data_theory/mcfm/Zgamma/lo/h3Z/0p05/Zgamma_lo_MMHT_nl_1____1____14TeV_pt5.txt\n",
      "mcfm lo h4Z\n",
      "/home/jcordero/CMS/data/data_theory/mcfm/Zgamma/lo/h4Z/0p05/Zgamma_lo_MMHT_nl_1____1____14TeV_pt5.txt\n",
      "mcfm lo h1gamma\n",
      "/home/jcordero/CMS/data/data_theory/mcfm/Zgamma/lo/h1gamma/0p05/Zgamma_lo_MMHT_nl_1____1____14TeV_pt5.txt\n",
      "mcfm lo h2gamma\n",
      "/home/jcordero/CMS/data/data_theory/mcfm/Zgamma/lo/h2gamma/0p05/Zgamma_lo_MMHT_nl_1____1____14TeV_pt5.txt\n",
      "mcfm lo h3gamma\n",
      "/home/jcordero/CMS/data/data_theory/mcfm/Zgamma/lo/h3gamma/0p05/Zgamma_lo_MMHT_nl_1____1____14TeV_pt5.txt\n",
      "mcfm lo h4gamma\n",
      "/home/jcordero/CMS/data/data_theory/mcfm/Zgamma/lo/h4gamma/0p05/Zgamma_lo_MMHT_nl_1____1____14TeV_pt5.txt\n",
      "mcfm nlo sm\n",
      "/home/jcordero/CMS/data/data_theory/mcfm/Zgamma/nlo/sm/Zgamma_nlo_MMHT_nl_1____1____14TeV_pt5.txt\n",
      "mcfm nlo h1Z\n",
      "/home/jcordero/CMS/data/data_theory/mcfm/Zgamma/nlo/h1Z/0p05/Zgamma_nlo_MMHT_nl_1____1____14TeV_pt5.txt\n",
      "mcfm nlo h2Z\n",
      "/home/jcordero/CMS/data/data_theory/mcfm/Zgamma/nlo/h2Z/0p05/Zgamma_nlo_MMHT_nl_1____1____14TeV_pt5.txt\n",
      "mcfm nlo h3Z\n",
      "/home/jcordero/CMS/data/data_theory/mcfm/Zgamma/nlo/h3Z/0p05/Zgamma_nlo_MMHT_nl_1____1____14TeV_pt5.txt\n",
      "mcfm nlo h4Z\n",
      "/home/jcordero/CMS/data/data_theory/mcfm/Zgamma/nlo/h4Z/0p05/Zgamma_nlo_MMHT_nl_1____1____14TeV_pt5.txt\n",
      "mcfm nlo h1gamma\n",
      "/home/jcordero/CMS/data/data_theory/mcfm/Zgamma/nlo/h1gamma/0p05/Zgamma_nlo_MMHT_nl_1____1____14TeV_pt5.txt\n",
      "mcfm nlo h2gamma\n",
      "/home/jcordero/CMS/data/data_theory/mcfm/Zgamma/nlo/h2gamma/0p05/Zgamma_nlo_MMHT_nl_1____1____14TeV_pt5.txt\n",
      "mcfm nlo h3gamma\n",
      "/home/jcordero/CMS/data/data_theory/mcfm/Zgamma/nlo/h3gamma/0p05/Zgamma_nlo_MMHT_nl_1____1____14TeV_pt5.txt\n",
      "mcfm nlo h4gamma\n",
      "/home/jcordero/CMS/data/data_theory/mcfm/Zgamma/nlo/h4gamma/0p05/Zgamma_nlo_MMHT_nl_1____1____14TeV_pt5.txt\n",
      "mcfm nnlo sm\n",
      "/home/jcordero/CMS/data/data_theory/mcfm/Zgamma/nnlo/sm/Zgamma_nnlo_MMHT_nl_1____1____14TeV_pt5.txt\n",
      "mcfm nnlo h1Z\n",
      "/home/jcordero/CMS/data/data_theory/mcfm/Zgamma/nnlo/h1Z/0p05/Zgamma_nnlo_MMHT_nl_1____1____14TeV_pt5.txt\n",
      "mcfm nnlo h2Z\n",
      "/home/jcordero/CMS/data/data_theory/mcfm/Zgamma/nnlo/h2Z/0p05/Zgamma_nnlo_MMHT_nl_1____1____14TeV_pt5.txt\n",
      "mcfm nnlo h3Z\n",
      "/home/jcordero/CMS/data/data_theory/mcfm/Zgamma/nnlo/h3Z/0p05/Zgamma_nnlo_MMHT_nl_1____1____14TeV_pt5.txt\n",
      "mcfm nnlo h4Z\n",
      "/home/jcordero/CMS/data/data_theory/mcfm/Zgamma/nnlo/h4Z/0p05/Zgamma_nnlo_MMHT_nl_1____1____14TeV_pt5.txt\n",
      "mcfm nnlo h1gamma\n",
      "/home/jcordero/CMS/data/data_theory/mcfm/Zgamma/nnlo/h1gamma/0p05/Zgamma_nnlo_MMHT_nl_1____1____14TeV_pt5.txt\n",
      "mcfm nnlo h2gamma\n",
      "/home/jcordero/CMS/data/data_theory/mcfm/Zgamma/nnlo/h2gamma/0p05/Zgamma_nnlo_MMHT_nl_1____1____14TeV_pt5.txt\n",
      "mcfm nnlo h3gamma\n",
      "/home/jcordero/CMS/data/data_theory/mcfm/Zgamma/nnlo/h3gamma/0p05/Zgamma_nnlo_MMHT_nl_1____1____14TeV_pt5.txt\n",
      "mcfm nnlo h4gamma\n",
      "/home/jcordero/CMS/data/data_theory/mcfm/Zgamma/nnlo/h4gamma/0p05/Zgamma_nnlo_MMHT_nl_1____1____14TeV_pt5.txt\n"
     ]
    }
   ],
   "source": [
    "selection = \"mcfm\"\n",
    "orders = [\"lo\",\"nlo\",\"nnlo\"]\n",
    "var = \"pt5\"\n",
    "\n",
    "coupling_list = [\"sm\"] + genCouplingList([\"Z\",\"gamma\"],range(1,5))\n",
    "\n",
    "for order in orders:\n",
    "    xsec[selection][order] = {}\n",
    "    for coup in coupling_list:\n",
    "        print(selection,order,coup)\n",
    "        xsec[selection][order][coup] = Reader[selection].readTheory(selection,order,coup,\"0p05\",var)\n",
    "        xsec[selection][order][coup][\"bins\"] = CommonHelper.Plot.BinFormat(xsec[selection][order][coup][\"bins\"],Type=\"center\")\n",
    "        print(Reader[selection].pathtmp)\n",
    "\n",
    "\n",
    "\n",
    "colors = {\n",
    "        'sm':'k',\n",
    "        'h1Z':'r',\n",
    "        'h2Z':'g',\n",
    "        'h3Z':'r',\n",
    "        'h4Z':'g',\n",
    "        'h1gamma':'b',\n",
    "        'h2gamma':'orange',\n",
    "        'h3gamma':'b',\n",
    "        'h4gamma':'orange',\n",
    "        }"
   ]
  },
  {
   "cell_type": "code",
   "execution_count": null,
   "metadata": {},
   "outputs": [],
   "source": []
  },
  {
   "cell_type": "code",
   "execution_count": 22,
   "metadata": {},
   "outputs": [],
   "source": [
    "#Reader[selection].readTheory(selection,'nlo','h2Z',\"0p05\",'pt5')\n",
    "#Reader[selection].getXsec(selection, Reader[selection].pathtmp)"
   ]
  },
  {
   "cell_type": "code",
   "execution_count": 25,
   "metadata": {},
   "outputs": [
    {
     "data": {
      "text/plain": [
       "<matplotlib.legend.Legend at 0x7fbf9a9560b8>"
      ]
     },
     "execution_count": 25,
     "metadata": {},
     "output_type": "execute_result"
    },
    {
     "ename": "OSError",
     "evalue": "[Errno 24] Too many open files: '/home/jcordero/anaconda3/envs/CMSenv/lib/python3.6/site-packages/matplotlib/mpl-data/fonts/ttf/DejaVuSans.ttf'",
     "output_type": "error",
     "traceback": [
      "\u001b[0;31m---------------------------------------------------------------------------\u001b[0m",
      "\u001b[0;31mOSError\u001b[0m                                   Traceback (most recent call last)",
      "\u001b[0;32m~/anaconda3/envs/CMSenv/lib/python3.6/site-packages/IPython/core/formatters.py\u001b[0m in \u001b[0;36m__call__\u001b[0;34m(self, obj)\u001b[0m\n",
      "\u001b[0;32m~/anaconda3/envs/CMSenv/lib/python3.6/site-packages/IPython/core/pylabtools.py\u001b[0m in \u001b[0;36m<lambda>\u001b[0;34m(fig)\u001b[0m\n",
      "\u001b[0;32m~/anaconda3/envs/CMSenv/lib/python3.6/site-packages/IPython/core/pylabtools.py\u001b[0m in \u001b[0;36mprint_figure\u001b[0;34m(fig, fmt, bbox_inches, **kwargs)\u001b[0m\n",
      "\u001b[0;32m~/anaconda3/envs/CMSenv/lib/python3.6/site-packages/matplotlib/backend_bases.py\u001b[0m in \u001b[0;36mprint_figure\u001b[0;34m(self, filename, dpi, facecolor, edgecolor, orientation, format, bbox_inches, **kwargs)\u001b[0m\n",
      "\u001b[0;32m~/anaconda3/envs/CMSenv/lib/python3.6/site-packages/matplotlib/backends/backend_agg.py\u001b[0m in \u001b[0;36mprint_png\u001b[0;34m(self, filename_or_obj, *args, **kwargs)\u001b[0m\n",
      "\u001b[0;32m~/anaconda3/envs/CMSenv/lib/python3.6/site-packages/matplotlib/backends/backend_agg.py\u001b[0m in \u001b[0;36mdraw\u001b[0;34m(self)\u001b[0m\n",
      "\u001b[0;32m~/anaconda3/envs/CMSenv/lib/python3.6/site-packages/matplotlib/artist.py\u001b[0m in \u001b[0;36mdraw_wrapper\u001b[0;34m(artist, renderer, *args, **kwargs)\u001b[0m\n",
      "\u001b[0;32m~/anaconda3/envs/CMSenv/lib/python3.6/site-packages/matplotlib/figure.py\u001b[0m in \u001b[0;36mdraw\u001b[0;34m(self, renderer)\u001b[0m\n",
      "\u001b[0;32m~/anaconda3/envs/CMSenv/lib/python3.6/site-packages/matplotlib/image.py\u001b[0m in \u001b[0;36m_draw_list_compositing_images\u001b[0;34m(renderer, parent, artists, suppress_composite)\u001b[0m\n",
      "\u001b[0;32m~/anaconda3/envs/CMSenv/lib/python3.6/site-packages/matplotlib/artist.py\u001b[0m in \u001b[0;36mdraw_wrapper\u001b[0;34m(artist, renderer, *args, **kwargs)\u001b[0m\n",
      "\u001b[0;32m~/anaconda3/envs/CMSenv/lib/python3.6/site-packages/matplotlib/axes/_base.py\u001b[0m in \u001b[0;36mdraw\u001b[0;34m(self, renderer, inframe)\u001b[0m\n",
      "\u001b[0;32m~/anaconda3/envs/CMSenv/lib/python3.6/site-packages/matplotlib/image.py\u001b[0m in \u001b[0;36m_draw_list_compositing_images\u001b[0;34m(renderer, parent, artists, suppress_composite)\u001b[0m\n",
      "\u001b[0;32m~/anaconda3/envs/CMSenv/lib/python3.6/site-packages/matplotlib/artist.py\u001b[0m in \u001b[0;36mdraw_wrapper\u001b[0;34m(artist, renderer, *args, **kwargs)\u001b[0m\n",
      "\u001b[0;32m~/anaconda3/envs/CMSenv/lib/python3.6/site-packages/matplotlib/axis.py\u001b[0m in \u001b[0;36mdraw\u001b[0;34m(self, renderer, *args, **kwargs)\u001b[0m\n",
      "\u001b[0;32m~/anaconda3/envs/CMSenv/lib/python3.6/site-packages/matplotlib/axis.py\u001b[0m in \u001b[0;36m_get_tick_bboxes\u001b[0;34m(self, ticks, renderer)\u001b[0m\n",
      "\u001b[0;32m~/anaconda3/envs/CMSenv/lib/python3.6/site-packages/matplotlib/text.py\u001b[0m in \u001b[0;36mget_window_extent\u001b[0;34m(self, renderer, dpi)\u001b[0m\n",
      "\u001b[0;32m~/anaconda3/envs/CMSenv/lib/python3.6/site-packages/matplotlib/text.py\u001b[0m in \u001b[0;36m_get_layout\u001b[0;34m(self, renderer)\u001b[0m\n",
      "\u001b[0;32m~/anaconda3/envs/CMSenv/lib/python3.6/site-packages/matplotlib/backends/backend_agg.py\u001b[0m in \u001b[0;36mget_text_width_height_descent\u001b[0;34m(self, s, prop, ismath)\u001b[0m\n",
      "\u001b[0;32m~/anaconda3/envs/CMSenv/lib/python3.6/site-packages/matplotlib/backends/backend_agg.py\u001b[0m in \u001b[0;36m_get_agg_font\u001b[0;34m(self, prop)\u001b[0m\n",
      "\u001b[0;32m~/anaconda3/envs/CMSenv/lib/python3.6/site-packages/matplotlib/font_manager.py\u001b[0m in \u001b[0;36mget_font\u001b[0;34m(filename, hinting_factor)\u001b[0m\n",
      "\u001b[0;31mOSError\u001b[0m: [Errno 24] Too many open files: '/home/jcordero/anaconda3/envs/CMSenv/lib/python3.6/site-packages/matplotlib/mpl-data/fonts/ttf/DejaVuSans.ttf'"
     ]
    },
    {
     "data": {
      "text/plain": [
       "<Figure size 720x720 with 1 Axes>"
      ]
     },
     "metadata": {
      "needs_background": "light"
     },
     "output_type": "display_data"
    }
   ],
   "source": [
    "plt.figure(figsize=(10,10))\n",
    "plt.grid(linestyle = \"--\")\n",
    "\n",
    "order = 'lo'\n",
    "for coupl in coupling_list:\n",
    "    plt.errorbar(xsec[selection][order][coupl][\"bins\"],\n",
    "                 xsec[selection][order][coupl][\"xsec\"],\n",
    "                 yerr = xsec[selection][order][coupl][\"err\"],\n",
    "                 color = colors[coupl],\n",
    "                 label = order + \" \" + coupl,\n",
    "                )\n",
    "ax = plt.gca()\n",
    "#ax.set_xlim([0,100])\n",
    "plt.legend()"
   ]
  },
  {
   "cell_type": "code",
   "execution_count": null,
   "metadata": {
    "scrolled": true
   },
   "outputs": [],
   "source": [
    "#xsec = Reader.readTheory(selection,\"nlo\",\"h4Z\",\"0p5\",\"boson_invariant_mass\")\n",
    "\n",
    "selection = \"matrix\"\n",
    "orders = [\"lo\",\"nlo\",\"nnlo\"]\n",
    "order = \"lo\"\n",
    "var = \"pT_gamma\"\n",
    "\n",
    "coupling_list = [\"sm\"] \n",
    "\n",
    "for order in orders:\n",
    "    xsec[selection][order] = {}\n",
    "    for coup in coupling_list:\n",
    "        xsec[selection][order][coup] = Reader[selection].readTheory(selection,order,coup,\"0p05\",var)\n",
    "        xsec[selection][order][coup][\"bins\"] = CommonHelper.Plot.BinFormat(xsec[selection][coup][\"bins\"],Type=\"center\")\n",
    "        print(Reader[selection].pathtmp)\n",
    "\n",
    "colors = {\n",
    "        'sm':'k',\n",
    "        'h3Z':'r',\n",
    "        'h3gamma':'b',\n",
    "        'h4Z':'g',\n",
    "        'h4gamma':'orange',\n",
    "        }"
   ]
  },
  {
   "cell_type": "code",
   "execution_count": null,
   "metadata": {},
   "outputs": [],
   "source": [
    "plt.figure(figsize=(10,10))\n",
    "plt.grid(linestyle = \"--\")\n",
    "for order in orders:\n",
    "    for coupl in coupling_list:\n",
    "        plt.errorbar(xsec[selection][order][coupl][\"bins\"],\n",
    "                     xsec[selection][order][coupl][\"xsec\"],\n",
    "                     yerr = xsec[selection][order][coupl][\"err\"],\n",
    "                     color = colors[coupl],\n",
    "                     label = order + \" \" + coupl,\n",
    "                    )\n",
    "ax = plt.gca()\n",
    "#ax.set_xlim([0,100])\n",
    "plt.legend()"
   ]
  },
  {
   "cell_type": "code",
   "execution_count": null,
   "metadata": {},
   "outputs": [],
   "source": [
    "xsec"
   ]
  },
  {
   "cell_type": "code",
   "execution_count": null,
   "metadata": {},
   "outputs": [],
   "source": []
  }
 ],
 "metadata": {
  "kernelspec": {
   "display_name": "Python [conda env:CMSenv] *",
   "language": "python",
   "name": "conda-env-CMSenv-py"
  },
  "language_info": {
   "codemirror_mode": {
    "name": "ipython",
    "version": 3
   },
   "file_extension": ".py",
   "mimetype": "text/x-python",
   "name": "python",
   "nbconvert_exporter": "python",
   "pygments_lexer": "ipython3",
   "version": "3.6.7"
  },
  "varInspector": {
   "cols": {
    "lenName": 16,
    "lenType": 16,
    "lenVar": 40
   },
   "kernels_config": {
    "python": {
     "delete_cmd_postfix": "",
     "delete_cmd_prefix": "del ",
     "library": "var_list.py",
     "varRefreshCmd": "print(var_dic_list())"
    },
    "r": {
     "delete_cmd_postfix": ") ",
     "delete_cmd_prefix": "rm(",
     "library": "var_list.r",
     "varRefreshCmd": "cat(var_dic_list()) "
    }
   },
   "types_to_exclude": [
    "module",
    "function",
    "builtin_function_or_method",
    "instance",
    "_Feature"
   ],
   "window_display": false
  }
 },
 "nbformat": 4,
 "nbformat_minor": 2
}
