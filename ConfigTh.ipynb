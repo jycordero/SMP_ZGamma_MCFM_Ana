{
 "cells": [
  {
   "cell_type": "code",
   "execution_count": 1,
   "metadata": {},
   "outputs": [],
   "source": [
    "import os"
   ]
  },
  {
   "cell_type": "code",
   "execution_count": null,
   "metadata": {},
   "outputs": [],
   "source": [
    "class ConfigTh:\n",
    "    def __init__(self, path, selection, era = \"Theory\"):\n",
    "        self.configdir = os.getcwd()+\"/../conf/config\"\n",
    "        \n",
    "        self.projectdir = self.getProjectDir()\n",
    "        self.path = path \n",
    "        self.era  = era\n",
    "        self.selection = selection\n",
    "\n",
    "        self.date = self.__setDate()\n",
    "        self.figpath = self.projectdir+\"figs/\"+era+\"/\"+selection+\"/\"\n",
    "        self.jsondir = self.projectdir+\"json/\"\n",
    "        \n",
    "        self.dirStructure()\n",
    "        \n",
    "    def __repr__(self):\n",
    "        space = len(ConfigTh.__name__)\n",
    "        spacer = \" \"*space\n",
    "        msg = \"{}(path={},\\n\".format(ConfigTh.__name__,self.path)\n",
    "        msg += spacer+\"*selection={},\\n\".format(self.selection)\n",
    "        msg += spacer+\"*era={},\\n\".format(self.era)\n",
    "        msg += spacer+\")\\n\"\n",
    "        msg += spacer+\"--> projectdir: {} (extracted from {})\\n\".format(self.projectdir, self.configdir)\n",
    "        msg += spacer+\"--> date: {}\\n\".format(self.date)\n",
    "        msg += spacer+\"--> figpath: {}\\n\".format(self.figpath)\n",
    "        msg += spacer+\"--> jsondir: {}\\n\".format(self.jsondir)\n",
    "        \n",
    "        return msg\n",
    "    \n",
    "    def __del__(self):\n",
    "        del self.projectdir\n",
    "        del self.path \n",
    "        del self.era  \n",
    "        del self.selection\n",
    "        del self.date\n",
    "        del self.figpath \n",
    "        del self.jsondir \n",
    "        \n",
    "    def __setDate(self):\n",
    "        import datetime\n",
    "        date = datetime.datetime.now()\n",
    "        return str(date.year) + str(date.month) + str(date.day) + \"/\"\n",
    "    \n",
    "    def _setProjectDir(self, projectdir):\n",
    "        self.projectdir = projectdir\n",
    "    \n",
    "    def _setPath(self, path):\n",
    "        self.path = path\n",
    "        \n",
    "    def _setEra(self, era):\n",
    "        self.era = era\n",
    "    \n",
    "    def _set(self,var,value):\n",
    "        setattr(self,var,value)    \n",
    "        \n",
    "    def getProjectDir(self):\n",
    "        with open(self.configdir) as f:\n",
    "            projectdir = f.read()\n",
    "        return projectdir.split('\\n')[0]\n",
    "\n",
    "    def CreateDir(self,figpath,fileName='',sufix='', Print = False):\n",
    "        try:\n",
    "            os.mkdir(figpath+fileName+sufix) \n",
    "        except:\n",
    "            if Print:\n",
    "                print(\"Directory \"+fileName+sufix+ \" already exist\")    \n",
    "    \n",
    "    def dirStructure(self,Print = False):\n",
    "        path = self.figpath + self.date\n",
    "        \n",
    "        self.CreateDir(path)\n",
    "        self.dirSubStructure(path +   \"Stacked/\", Print=Print)\n",
    "        self.dirSubStructure(path + \"Unstacked/\", Print=Print)\n",
    "\n",
    "\n",
    "    def dirSubStructure(self, path,Print = False):\n",
    "        self.CreateDir(path, Print=Print)\n",
    "        self.CreateDir(path+\"log\",Print=Print)\n",
    "        self.CreateDir(path+\"log/Mult\", Print=Print)\n",
    "        self.CreateDir(path+\"linear\", Print=Print)\n",
    "        self.CreateDir(path+\"linear/Mult\", Print=Print)\n"
   ]
  }
 ],
 "metadata": {
  "kernelspec": {
   "display_name": "Python [conda env:CMSenv] *",
   "language": "python",
   "name": "conda-env-CMSenv-py"
  },
  "language_info": {
   "codemirror_mode": {
    "name": "ipython",
    "version": 3
   },
   "file_extension": ".py",
   "mimetype": "text/x-python",
   "name": "python",
   "nbconvert_exporter": "python",
   "pygments_lexer": "ipython3",
   "version": "3.6.7"
  },
  "varInspector": {
   "cols": {
    "lenName": 16,
    "lenType": 16,
    "lenVar": 40
   },
   "kernels_config": {
    "python": {
     "delete_cmd_postfix": "",
     "delete_cmd_prefix": "del ",
     "library": "var_list.py",
     "varRefreshCmd": "print(var_dic_list())"
    },
    "r": {
     "delete_cmd_postfix": ") ",
     "delete_cmd_prefix": "rm(",
     "library": "var_list.r",
     "varRefreshCmd": "cat(var_dic_list()) "
    }
   },
   "types_to_exclude": [
    "module",
    "function",
    "builtin_function_or_method",
    "instance",
    "_Feature"
   ],
   "window_display": false
  }
 },
 "nbformat": 4,
 "nbformat_minor": 2
}
